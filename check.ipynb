{
 "cells": [
  {
   "cell_type": "code",
   "execution_count": 1,
   "metadata": {},
   "outputs": [],
   "source": [
    "output = \"\"\"[[CREATE TABLE top_posts ( id INT NOT NULL AUTO_INCREMENT PRIMARY KEY, user_id INT, title TEXT NOT NULL, body TEXT NOT NULL, created_at)   -> schema.rename_column \"things\", \"age\"   -> schema.rename_table \"goods\", \"sweets\" \"RENAME TABLE goods TO sweets\"   name: \"schema.create_table\" -> schema.create_table \"top_posts\",   \"id\", schema.types.id  \"user_id\", schema.types.integer \"ALTER TABLE items CHANGE COLUMN cat paw INT NOT NULL\"   -> schema.rename_table \"goods\", \"sweets\" \"RENAME TABLE goods TO sweets\"   name: \"schema.create_table\" -> schema.create_table \"top_posts\",   \"id\", schema.types.integer \"ALTER TABLE items CHANGE COLUMN cat paw INT NOT NULL\"   -> schema.rename_table \"goods\", \"sweets\" \"RENAME TABLE goods TO sweets\"   name: \"schema.create_table\" -> schema.create_table \"top_posts\",   \"id\", schema.types.integer \"ALTER TABLE items CHANGE COLUMN cat paw INT NOT NULL\"    -> schema.rename_table \"goods\", \"sweets\" \"RENAME TABLE goods TO sweets\"   name: \"schema.create_table\" -> schema.create\"\"\"\n",
    "label = \"\"\", schema.types.integer \"ALTER TABLE things ADD COLUMN age INT NOT NULL\"   -> schema.add_column \"things\", \"cat\", schema.types.integer \"ALTER TABLE things ADD COLUMN cat INT NOT NULL\"   -> schema.add_column \"things\", \"paw\", schema.types.integer \"ALTER TABLE things ADD COLUMN paw INT NOT NULL\"   -> schema.add_column \"things\", \"price\", schema.types.integer \"ALTER TABLE things ADD COLUMN price INT NOT NULL\"   -> schema.add_column \"things\", \"tags\", schema.types.text \"ALTER TABLE things ADD COLUMN tags TEXT NOT NULL\"   -> schema.add_column \"things\", \"user_id\", schema.types.integer \"ALTER TABLE things ADD COLUMN user_id INT NOT NULL\"   -> schema.add_column \"things\", \"user_name\", schema.types.text \"ALTER TABLE things ADD COLUMN user_name TEXT NOT NULL\"   -> schema.add_column \"things\", \"user_type\", schema.types.text \"ALTER TABLE things ADD COLUMN user_type TEXT NOT NULL\"   -> schema.add_column \"things\", \"user_url\", schema.types.text \"ALTER TABLE things ADD COLUMN user_url TEXT NOT NULL\"   -> schema.add_column \"things\", \"user_url_name\", schema.types\"\"\""
   ]
  },
  {
   "cell_type": "code",
   "execution_count": 2,
   "metadata": {},
   "outputs": [
    {
     "name": "stdout",
     "output_type": "stream",
     "text": [
      "[[CREATE TABLE top_posts ( id INT NOT NULL AUTO_INCREMENT PRIMARY KEY, user_id INT, title TEXT NOT NULL, body TEXT NOT NULL, created_at)   -> schema.rename_column \"things\", \"age\"   -> schema.rename_table \"goods\", \"sweets\" \"RENAME TABLE goods TO sweets\"   name: \"schema.create_table\" -> schema.create_table \"top_posts\",   \"id\", schema.types.id  \"user_id\", schema.types.integer \"ALTER TABLE items CHANGE COLUMN cat paw INT NOT NULL\"   -> schema.rename_table \"goods\", \"sweets\" \"RENAME TABLE goods TO sweets\"   name: \"schema.create_table\" -> schema.create_table \"top_posts\",   \"id\", schema.types.integer \"ALTER TABLE items CHANGE COLUMN cat paw INT NOT NULL\"   -> schema.rename_table \"goods\", \"sweets\" \"RENAME TABLE goods TO sweets\"   name: \"schema.create_table\" -> schema.create_table \"top_posts\",   \"id\", schema.types.integer \"ALTER TABLE items CHANGE COLUMN cat paw INT NOT NULL\"    -> schema.rename_table \"goods\", \"sweets\" \"RENAME TABLE goods TO sweets\"   name: \"schema.create_table\" -> schema.create\n"
     ]
    }
   ],
   "source": [
    "print(output)"
   ]
  },
  {
   "cell_type": "code",
   "execution_count": 4,
   "metadata": {},
   "outputs": [
    {
     "name": "stdout",
     "output_type": "stream",
     "text": [
      ", schema.types.integer \"ALTER TABLE things ADD COLUMN age INT NOT NULL\"   -> schema.add_column \"things\", \"cat\", schema.types.integer \"ALTER TABLE things ADD COLUMN cat INT NOT NULL\"   -> schema.add_column \"things\", \"paw\", schema.types.integer \"ALTER TABLE things ADD COLUMN paw INT NOT NULL\"   -> schema.add_column \"things\", \"price\", schema.types.integer \"ALTER TABLE things ADD COLUMN price INT NOT NULL\"   -> schema.add_column \"things\", \"tags\", schema.types.text \"ALTER TABLE things ADD COLUMN tags TEXT NOT NULL\"   -> schema.add_column \"things\", \"user_id\", schema.types.integer \"ALTER TABLE things ADD COLUMN user_id INT NOT NULL\"   -> schema.add_column \"things\", \"user_name\", schema.types.text \"ALTER TABLE things ADD COLUMN user_name TEXT NOT NULL\"   -> schema.add_column \"things\", \"user_type\", schema.types.text \"ALTER TABLE things ADD COLUMN user_type TEXT NOT NULL\"   -> schema.add_column \"things\", \"user_url\", schema.types.text \"ALTER TABLE things ADD COLUMN user_url TEXT NOT NULL\"   -> schema.add_column \"things\", \"user_url_name\", schema.types\n"
     ]
    }
   ],
   "source": [
    "print(label)"
   ]
  },
  {
   "cell_type": "code",
   "execution_count": 5,
   "metadata": {},
   "outputs": [],
   "source": [
    "from datasets import load_dataset\n",
    "datasets = load_dataset(\"jitx/distillation_code_100\", split=\"train\")"
   ]
  },
  {
   "cell_type": "code",
   "execution_count": 6,
   "metadata": {},
   "outputs": [
    {
     "data": {
      "text/plain": [
       "Dataset({\n",
       "    features: ['santacoder_prompts', 'fim_inputs', 'label_middles', 'santacoder_outputs', 'openai_rationales'],\n",
       "    num_rows: 100\n",
       "})"
      ]
     },
     "execution_count": 6,
     "metadata": {},
     "output_type": "execute_result"
    }
   ],
   "source": [
    "datasets.filter(lambda example: 'schema.types.integer' in example[''])"
   ]
  },
  {
   "cell_type": "code",
   "execution_count": 8,
   "metadata": {},
   "outputs": [],
   "source": [
    "d1 = datasets.filter(lambda example: 'schema.types.integer' in example['santacoder_outputs'])"
   ]
  },
  {
   "cell_type": "code",
   "execution_count": 10,
   "metadata": {},
   "outputs": [
    {
     "data": {
      "text/plain": [
       "{'santacoder_prompts': 'n `items`;\"\\n  }\\n\\n  {\\n    -> schema.add_column \"things\", \"age\"<FILL-HERE>ABLE `items` DROP COLUMN `cat`\"\\n  }\\n\\n  {\\n    -> schema.rename_column \"items\", \"cat\", \"paw\", schema.types.integer\\n    \"ALTER TABLE `items` CHANGE COLUMN `cat` `paw` INT NOT NULL\"\\n  }\\n\\n  {\\n    -> schema.rename_table \"goods\", \"sweets\"\\n    \"RENAME TABLE `goods` TO `sweets`\"\\n  }\\n\\n  {\\n    name: \"schema.create_table\"\\n\\n    ->\\n      schema.create_table \"top_posts\", {\\n        {\"id\", schema.types.id}\\n        {\"user_id\", schema.types.integer null: true}\\n        {\"title\", schema.types.text null: false}\\n        {\"body\", schema.types.text null: false}\\n        {\"created_at\", schema.types.datetime}\\n        {\"updated_at\", schema.types.datetime}\\n      }\\n\\n    [[CREATE TABLE `top_posts` (\\n  `id` INT NOT NULL AUTO_INCREMENT PRIMARY KEY,\\n  `user_id` INT,\\n  `title` TEXT NOT NULL,\\n  `body` TEXT NOT NULL,\\n  `created_at` DATE',\n",
       " 'fim_inputs': '<fim-prefix>n `items`;\"\\n  }\\n\\n  {\\n    -> schema.add_column \"things\", \"age\"<fim-suffix>ABLE `items` DROP COLUMN `cat`\"\\n  }\\n\\n  {\\n    -> schema.rename_column \"items\", \"cat\", \"paw\", schema.types.integer\\n    \"ALTER TABLE `items` CHANGE COLUMN `cat` `paw` INT NOT NULL\"\\n  }\\n\\n  {\\n    -> schema.rename_table \"goods\", \"sweets\"\\n    \"RENAME TABLE `goods` TO `sweets`\"\\n  }\\n\\n  {\\n    name: \"schema.create_table\"\\n\\n    ->\\n      schema.create_table \"top_posts\", {\\n        {\"id\", schema.types.id}\\n        {\"user_id\", schema.types.integer null: true}\\n        {\"title\", schema.types.text null: false}\\n        {\"body\", schema.types.text null: false}\\n        {\"created_at\", schema.types.datetime}\\n        {\"updated_at\", schema.types.datetime}\\n      }\\n\\n    [[CREATE TABLE `top_posts` (\\n  `id` INT NOT NULL AUTO_INCREMENT PRIMARY KEY,\\n  `user_id` INT,\\n  `title` TEXT NOT NULL,\\n  `body` TEXT NOT NULL,\\n  `created_at` DATE<fim-middle>, schema.types.varchar 22\\n    \"ALTER TABLE `things` ADD COLUMN `age` VARCHAR(22) NOT NULL\"\\n  }\\n\\n  {\\n    -> schema.drop_column \"items\", \"cat\"\\n    \"ALTER T',\n",
       " 'label_middles': ', schema.types.varchar 22\\n    \"ALTER TABLE `things` ADD COLUMN `age` VARCHAR(22) NOT NULL\"\\n  }\\n\\n  {\\n    -> schema.drop_column \"items\", \"cat\"\\n    \"ALTER T',\n",
       " 'santacoder_outputs': ', schema.types.integer\\n    \"ALTER TABLE `things` ADD COLUMN `age` INT NOT NULL\"\\n  }\\n\\n  {\\n    -> schema.add_column \"things\", \"cat\", schema.types.integer\\n    \"ALTER TABLE `things` ADD COLUMN `cat` INT NOT NULL\"\\n  }\\n\\n  {\\n    -> schema.add_column \"things\", \"paw\", schema.types.integer\\n    \"ALTER TABLE `things` ADD COLUMN `paw` INT NOT NULL\"\\n  }\\n\\n  {\\n    -> schema.add_column \"things\", \"price\", schema.types.integer\\n    \"ALTER TABLE `things` ADD COLUMN `price` INT NOT NULL\"\\n  }\\n\\n  {\\n    -> schema.add_column \"things\", \"tags\", schema.types.text\\n    \"ALTER TABLE `things` ADD COLUMN `tags` TEXT NOT NULL\"\\n  }\\n\\n  {\\n    -> schema.add_column \"things\", \"user_id\", schema.types.integer\\n    \"ALTER TABLE `things` ADD COLUMN `user_id` INT NOT NULL\"\\n  }\\n\\n  {\\n    -> schema.add_column \"things\", \"user_name\", schema.types.text\\n    \"ALTER TABLE `things` ADD COLUMN `user_name` TEXT NOT NULL\"\\n  }\\n\\n  {\\n    -> schema.add_column \"things\", \"user_type\", schema.types.text\\n    \"ALTER TABLE `things` ADD COLUMN `user_type` TEXT NOT NULL\"\\n  }\\n\\n  {\\n    -> schema.add_column \"things\", \"user_url\", schema.types.text\\n    \"ALTER TABLE `things` ADD COLUMN `user_url` TEXT NOT NULL\"\\n  }\\n\\n  {\\n    -> schema.add_column \"things\", \"user_url_name\", schema.types.text\\n    \"ALTER TABLE `things` ADD COLUMN `user_url_name` TEXT NOT NULL\"\\n  }\\n\\n  {\\n    -> schema.add_column \"things\", \"user_url_type\", schema.types.text\\n    \"ALTER TABLE `things` ADD COLUMN `user_url_type` TEXT NOT NULL\"\\n  }\\n\\n  {\\n    -> schema.add_column \"things\", \"user_url_url\", schema.types.text\\n    \"ALTER TABLE `things` ADD COLUMN `user_url_url` TEXT NOT NULL\"\\n  }\\n\\n  {\\n    -> schema.add_column \"things\", \"user_url_url_name\", schema.types.text\\n    ',\n",
       " 'openai_rationales': 'The code contains MoonScript functions that define various database operations. Each function receives arguments to perform the operation and returns the corresponding SQL query as a string. The operations include adding/dropping columns, renaming tables/columns, and creating new tables with specified columns and data types.'}"
      ]
     },
     "execution_count": 10,
     "metadata": {},
     "output_type": "execute_result"
    }
   ],
   "source": [
    "d1[0]"
   ]
  },
  {
   "cell_type": "code",
   "execution_count": 13,
   "metadata": {},
   "outputs": [
    {
     "name": "stdout",
     "output_type": "stream",
     "text": [
      "<fim-prefix>n `items`;\"\n",
      "  }\n",
      "\n",
      "  {\n",
      "    -> schema.add_column \"things\", \"age\"<fim-suffix>ABLE `items` DROP COLUMN `cat`\"\n",
      "  }\n",
      "\n",
      "  {\n",
      "    -> schema.rename_column \"items\", \"cat\", \"paw\", schema.types.integer\n",
      "    \"ALTER TABLE `items` CHANGE COLUMN `cat` `paw` INT NOT NULL\"\n",
      "  }\n",
      "\n",
      "  {\n",
      "    -> schema.rename_table \"goods\", \"sweets\"\n",
      "    \"RENAME TABLE `goods` TO `sweets`\"\n",
      "  }\n",
      "\n",
      "  {\n",
      "    name: \"schema.create_table\"\n",
      "\n",
      "    ->\n",
      "      schema.create_table \"top_posts\", {\n",
      "        {\"id\", schema.types.id}\n",
      "        {\"user_id\", schema.types.integer null: true}\n",
      "        {\"title\", schema.types.text null: false}\n",
      "        {\"body\", schema.types.text null: false}\n",
      "        {\"created_at\", schema.types.datetime}\n",
      "        {\"updated_at\", schema.types.datetime}\n",
      "      }\n",
      "\n",
      "    [[CREATE TABLE `top_posts` (\n",
      "  `id` INT NOT NULL AUTO_INCREMENT PRIMARY KEY,\n",
      "  `user_id` INT,\n",
      "  `title` TEXT NOT NULL,\n",
      "  `body` TEXT NOT NULL,\n",
      "  `created_at` DATE<fim-middle>, schema.types.varchar 22\n",
      "    \"ALTER TABLE `things` ADD COLUMN `age` VARCHAR(22) NOT NULL\"\n",
      "  }\n",
      "\n",
      "  {\n",
      "    -> schema.drop_column \"items\", \"cat\"\n",
      "    \"ALTER T\n"
     ]
    }
   ],
   "source": [
    "print(d1[0]['fim_inputs'])"
   ]
  },
  {
   "cell_type": "code",
   "execution_count": 12,
   "metadata": {},
   "outputs": [
    {
     "name": "stdout",
     "output_type": "stream",
     "text": [
      ", schema.types.varchar 22\n",
      "    \"ALTER TABLE `things` ADD COLUMN `age` VARCHAR(22) NOT NULL\"\n",
      "  }\n",
      "\n",
      "  {\n",
      "    -> schema.drop_column \"items\", \"cat\"\n",
      "    \"ALTER T\n"
     ]
    }
   ],
   "source": [
    "print(d1[0]['label_middles'])"
   ]
  },
  {
   "cell_type": "code",
   "execution_count": 11,
   "metadata": {},
   "outputs": [
    {
     "name": "stdout",
     "output_type": "stream",
     "text": [
      ", schema.types.integer\n",
      "    \"ALTER TABLE `things` ADD COLUMN `age` INT NOT NULL\"\n",
      "  }\n",
      "\n",
      "  {\n",
      "    -> schema.add_column \"things\", \"cat\", schema.types.integer\n",
      "    \"ALTER TABLE `things` ADD COLUMN `cat` INT NOT NULL\"\n",
      "  }\n",
      "\n",
      "  {\n",
      "    -> schema.add_column \"things\", \"paw\", schema.types.integer\n",
      "    \"ALTER TABLE `things` ADD COLUMN `paw` INT NOT NULL\"\n",
      "  }\n",
      "\n",
      "  {\n",
      "    -> schema.add_column \"things\", \"price\", schema.types.integer\n",
      "    \"ALTER TABLE `things` ADD COLUMN `price` INT NOT NULL\"\n",
      "  }\n",
      "\n",
      "  {\n",
      "    -> schema.add_column \"things\", \"tags\", schema.types.text\n",
      "    \"ALTER TABLE `things` ADD COLUMN `tags` TEXT NOT NULL\"\n",
      "  }\n",
      "\n",
      "  {\n",
      "    -> schema.add_column \"things\", \"user_id\", schema.types.integer\n",
      "    \"ALTER TABLE `things` ADD COLUMN `user_id` INT NOT NULL\"\n",
      "  }\n",
      "\n",
      "  {\n",
      "    -> schema.add_column \"things\", \"user_name\", schema.types.text\n",
      "    \"ALTER TABLE `things` ADD COLUMN `user_name` TEXT NOT NULL\"\n",
      "  }\n",
      "\n",
      "  {\n",
      "    -> schema.add_column \"things\", \"user_type\", schema.types.text\n",
      "    \"ALTER TABLE `things` ADD COLUMN `user_type` TEXT NOT NULL\"\n",
      "  }\n",
      "\n",
      "  {\n",
      "    -> schema.add_column \"things\", \"user_url\", schema.types.text\n",
      "    \"ALTER TABLE `things` ADD COLUMN `user_url` TEXT NOT NULL\"\n",
      "  }\n",
      "\n",
      "  {\n",
      "    -> schema.add_column \"things\", \"user_url_name\", schema.types.text\n",
      "    \"ALTER TABLE `things` ADD COLUMN `user_url_name` TEXT NOT NULL\"\n",
      "  }\n",
      "\n",
      "  {\n",
      "    -> schema.add_column \"things\", \"user_url_type\", schema.types.text\n",
      "    \"ALTER TABLE `things` ADD COLUMN `user_url_type` TEXT NOT NULL\"\n",
      "  }\n",
      "\n",
      "  {\n",
      "    -> schema.add_column \"things\", \"user_url_url\", schema.types.text\n",
      "    \"ALTER TABLE `things` ADD COLUMN `user_url_url` TEXT NOT NULL\"\n",
      "  }\n",
      "\n",
      "  {\n",
      "    -> schema.add_column \"things\", \"user_url_url_name\", schema.types.text\n",
      "    \n"
     ]
    }
   ],
   "source": [
    "print(d1[0]['santacoder_outputs'])"
   ]
  },
  {
   "cell_type": "code",
   "execution_count": 14,
   "metadata": {},
   "outputs": [],
   "source": [
    "\n",
    "from transformers import Seq2SeqTrainingArguments, Seq2SeqTrainer\n",
    "from transformers import T5ForConditionalGeneration\n",
    "from transformers import DataCollatorForSeq2Seq\n",
    "import wandb\n",
    "\n",
    "from datasets import load_dataset\n",
    "from transformers import AutoTokenizer, T5ForConditionalGeneration"
   ]
  },
  {
   "cell_type": "code",
   "execution_count": 16,
   "metadata": {},
   "outputs": [],
   "source": [
    "model = T5ForConditionalGeneration.from_pretrained(\"google/flan-t5-small\")"
   ]
  },
  {
   "cell_type": "code",
   "execution_count": 17,
   "metadata": {},
   "outputs": [],
   "source": [
    "FIM_PREFIX = \"<fim-prefix>\"\n",
    "FIM_MIDDLE = \"<fim-middle>\"\n",
    "FIM_SUFFIX = \"<fim-suffix>\""
   ]
  },
  {
   "cell_type": "code",
   "execution_count": 18,
   "metadata": {},
   "outputs": [
    {
     "data": {
      "text/plain": [
       "3"
      ]
     },
     "execution_count": 18,
     "metadata": {},
     "output_type": "execute_result"
    }
   ],
   "source": [
    "tokenizer = AutoTokenizer.from_pretrained(\"google/flan-t5-small\")\n",
    "addtional_tokens = tokenizer.special_tokens_map['additional_special_tokens']\n",
    "addtional_tokens.extend([FIM_PREFIX, FIM_MIDDLE, FIM_SUFFIX])\n",
    "tokenizer.add_special_tokens({\n",
    "        \"additional_special_tokens\": addtional_tokens,\n",
    "})"
   ]
  },
  {
   "cell_type": "code",
   "execution_count": 19,
   "metadata": {},
   "outputs": [
    {
     "name": "stderr",
     "output_type": "stream",
     "text": [
      "You are resizing the embedding layer without providing a `pad_to_multiple_of` parameter. This means that the new embedding dimension will be 32103. This might induce some performance reduction as *Tensor Cores* will not be available. For more details  about this, or help on choosing the correct value for resizing, refer to this guide: https://docs.nvidia.com/deeplearning/performance/dl-performance-matrix-multiplication/index.html#requirements-tc\n"
     ]
    },
    {
     "data": {
      "text/plain": [
       "Embedding(32103, 512)"
      ]
     },
     "execution_count": 19,
     "metadata": {},
     "output_type": "execute_result"
    }
   ],
   "source": [
    "model.resize_token_embeddings(len(tokenizer))"
   ]
  },
  {
   "cell_type": "code",
   "execution_count": 26,
   "metadata": {},
   "outputs": [],
   "source": [
    "input_ids = tokenizer.encode(d1[0]['fim_inputs'], return_tensors=\"pt\")"
   ]
  },
  {
   "cell_type": "code",
   "execution_count": 29,
   "metadata": {},
   "outputs": [
    {
     "data": {
      "text/plain": [
       "'<pad> [[CREATE TABLE <unk>top_posts<unk> ( <unk>id'"
      ]
     },
     "execution_count": 29,
     "metadata": {},
     "output_type": "execute_result"
    }
   ],
   "source": [
    "tokenizer.decode(model.generate(input_ids)[0])"
   ]
  },
  {
   "cell_type": "code",
   "execution_count": null,
   "metadata": {},
   "outputs": [],
   "source": []
  }
 ],
 "metadata": {
  "kernelspec": {
   "display_name": "Python 3",
   "language": "python",
   "name": "python3"
  },
  "language_info": {
   "codemirror_mode": {
    "name": "ipython",
    "version": 3
   },
   "file_extension": ".py",
   "mimetype": "text/x-python",
   "name": "python",
   "nbconvert_exporter": "python",
   "pygments_lexer": "ipython3",
   "version": "3.10.11"
  },
  "orig_nbformat": 4
 },
 "nbformat": 4,
 "nbformat_minor": 2
}
